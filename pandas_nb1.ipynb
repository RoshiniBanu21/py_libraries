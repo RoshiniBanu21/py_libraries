{
 "cells": [
  {
   "cell_type": "markdown",
   "id": "27ab2994",
   "metadata": {},
   "source": [
    "# Pandas"
   ]
  },
  {
   "cell_type": "markdown",
   "id": "be0e496d",
   "metadata": {},
   "source": [
    "Pandas is a Python package that provides fast, flexible, and expressive data structures designed to make working\n",
    "with \"relational\" or \"labeled\" data both easy and intuitive. It aims to be the fundamental high-level building \n",
    "block for doing practical, real world data analysis in Python."
   ]
  },
  {
   "cell_type": "code",
   "execution_count": 112,
   "id": "d120ad19",
   "metadata": {},
   "outputs": [],
   "source": [
    "#to use pandas we have to import pandas library\n",
    "#to install pandas -- pip install pandas\n",
    "import pandas as pd\n",
    "import numpy as np"
   ]
  },
  {
   "cell_type": "code",
   "execution_count": 113,
   "id": "afdba40a",
   "metadata": {},
   "outputs": [
    {
     "data": {
      "text/plain": [
       "0    1\n",
       "1    3\n",
       "2    9\n",
       "3    8\n",
       "4    4\n",
       "5    5\n",
       "6    9\n",
       "dtype: int64"
      ]
     },
     "execution_count": 113,
     "metadata": {},
     "output_type": "execute_result"
    }
   ],
   "source": [
    "#Creating a Series by passing a list of values, letting pandas create a default integer index:\n",
    "s1 = pd.Series([1,3,9,8,4,5,9])\n",
    "s1\n"
   ]
  },
  {
   "cell_type": "code",
   "execution_count": 114,
   "id": "15b4503e",
   "metadata": {},
   "outputs": [
    {
     "data": {
      "text/plain": [
       "0    1\n",
       "1    3\n",
       "2    9\n",
       "3    8\n",
       "4    4\n",
       "5    5\n",
       "dtype: int64"
      ]
     },
     "execution_count": 114,
     "metadata": {},
     "output_type": "execute_result"
    }
   ],
   "source": [
    "#to get 5 rows\n",
    "s1[0:6]"
   ]
  },
  {
   "cell_type": "code",
   "execution_count": 115,
   "id": "8e1c7fa9",
   "metadata": {},
   "outputs": [
    {
     "data": {
      "text/plain": [
       "6    9\n",
       "5    5\n",
       "4    4\n",
       "3    8\n",
       "2    9\n",
       "1    3\n",
       "0    1\n",
       "dtype: int64"
      ]
     },
     "execution_count": 115,
     "metadata": {},
     "output_type": "execute_result"
    },
    {
     "data": {
      "text/plain": [
       "6    9\n",
       "5    5\n",
       "4    4\n",
       "3    8\n",
       "2    9\n",
       "1    3\n",
       "0    1\n",
       "dtype: int64"
      ]
     },
     "execution_count": 115,
     "metadata": {},
     "output_type": "execute_result"
    }
   ],
   "source": [
    "#prints the list in reverse order\n",
    "s1[::-1]"
   ]
  },
  {
   "cell_type": "code",
   "execution_count": 116,
   "id": "292c4d5e",
   "metadata": {},
   "outputs": [],
   "source": [
    "#assigning alternate index\n",
    "s2 = pd.Series([0,1,2,3,4,9],index = ['r0','r1','r2','r3','r4','r5'])\n",
    "s2"
   ]
  },
  {
   "cell_type": "code",
   "execution_count": 117,
   "id": "0974443f",
   "metadata": {},
   "outputs": [],
   "source": [
    "#acessing the values through alnernate index\n",
    "s2['r0':'r7']"
   ]
  },
  {
   "cell_type": "code",
   "execution_count": 118,
   "id": "590a06e8",
   "metadata": {},
   "outputs": [],
   "source": [
    "#Creating a Series by passing a list of values, letting pandas create a default integer index\n",
    "dates = pd.date_range(\"20130101\", periods=6)\n",
    "dates"
   ]
  },
  {
   "cell_type": "code",
   "execution_count": 119,
   "id": "7ff3d956",
   "metadata": {},
   "outputs": [],
   "source": [
    "#assigning dates as an index\n",
    "df = pd.DataFrame(np.random.randn(6, 4), index=dates, columns=list(\"ABCD\"))\n",
    "df"
   ]
  },
  {
   "cell_type": "code",
   "execution_count": 120,
   "id": "28ead8ec",
   "metadata": {},
   "outputs": [],
   "source": [
    "#creating a series using arange of function arange function is available in numpy so import numpy\n",
    "import numpy as np\n",
    "s3 = pd.Series(np.arange(10))\n",
    "s3"
   ]
  },
  {
   "cell_type": "code",
   "execution_count": 121,
   "id": "b3488673",
   "metadata": {},
   "outputs": [],
   "source": [
    "#create a pandas series with 100 zero values\n",
    "import numpy as np\n",
    "s4 = pd.Series(np.zeros(100))\n",
    "s4\n"
   ]
  },
  {
   "cell_type": "code",
   "execution_count": 122,
   "id": "33f51aa3",
   "metadata": {},
   "outputs": [],
   "source": [
    "#Creating a DataFrame by passing a dictionary of objects that can be converted into a series-like structure:\n",
    "df2 = pd.DataFrame(\n",
    "    {\n",
    "        \"A\": 1.0,\n",
    "        \"B\": pd.Timestamp(\"20130102\"),\n",
    "        \"C\": pd.Series(1, index=list(range(4)), dtype=\"float32\"),\n",
    "        \"D\": np.array([3] * 4, dtype=\"int32\"),\n",
    "        \"E\": pd.Categorical([\"test\", \"train\", \"test\", \"train\"]),\n",
    "        \"F\": \"foo\",\n",
    "    }\n",
    ")\n",
    "\n",
    "\n",
    "df2"
   ]
  },
  {
   "cell_type": "code",
   "execution_count": 123,
   "id": "763d100d",
   "metadata": {},
   "outputs": [],
   "source": [
    "#to read a dataset\n",
    "df = pd.read_csv('mtcars.csv')"
   ]
  },
  {
   "cell_type": "code",
   "execution_count": 124,
   "id": "3807c007",
   "metadata": {},
   "outputs": [],
   "source": [
    "#displays the whole dataset\n",
    "df"
   ]
  },
  {
   "cell_type": "code",
   "execution_count": 125,
   "id": "a84fdddd",
   "metadata": {},
   "outputs": [],
   "source": [
    "#displays the particular column\n",
    "df.disp"
   ]
  },
  {
   "cell_type": "code",
   "execution_count": 126,
   "id": "b89a21cf",
   "metadata": {},
   "outputs": [],
   "source": [
    "df['cyl']"
   ]
  },
  {
   "cell_type": "code",
   "execution_count": 127,
   "id": "b99c2af7",
   "metadata": {},
   "outputs": [],
   "source": [
    "#displays first 5 columns\n",
    "df.head()"
   ]
  },
  {
   "cell_type": "code",
   "execution_count": 128,
   "id": "621ad7c7",
   "metadata": {},
   "outputs": [],
   "source": [
    "#displays last 10 columns\n",
    "df.tail(10)"
   ]
  },
  {
   "cell_type": "code",
   "execution_count": 129,
   "id": "9ad741ed",
   "metadata": {},
   "outputs": [],
   "source": [
    "#displays no of rows and columns\n",
    "df.shape"
   ]
  },
  {
   "cell_type": "code",
   "execution_count": 130,
   "id": "eede3c1b",
   "metadata": {},
   "outputs": [],
   "source": [
    "#to print the columns\n",
    "df.columns"
   ]
  },
  {
   "cell_type": "code",
   "execution_count": 131,
   "id": "790968a3",
   "metadata": {},
   "outputs": [],
   "source": [
    "#to print specific column use df['model']or\n",
    "df.model"
   ]
  },
  {
   "cell_type": "code",
   "execution_count": 132,
   "id": "c8f89640",
   "metadata": {},
   "outputs": [],
   "source": [
    "#to display random columns\n",
    "df[['model','disp']]"
   ]
  },
  {
   "cell_type": "code",
   "execution_count": 133,
   "id": "e46e9ba4",
   "metadata": {},
   "outputs": [],
   "source": [
    "#to display a index range\n",
    "df.index"
   ]
  },
  {
   "cell_type": "code",
   "execution_count": 134,
   "id": "173a5f43",
   "metadata": {},
   "outputs": [],
   "source": [
    "#to print the list in array format\n",
    "df.to_numpy()"
   ]
  },
  {
   "cell_type": "markdown",
   "id": "5c6af288",
   "metadata": {},
   "source": [
    "# STRING FUNCTIONS"
   ]
  },
  {
   "cell_type": "code",
   "execution_count": 135,
   "id": "cfa7f44f",
   "metadata": {},
   "outputs": [],
   "source": [
    "#LOWER CASE\n",
    "s = pd.Series([\"A\", \"B\", \"C\", \"Aaba\", \"Baca\", np.nan, \"CABA\", \"dog\", \"cat\"])\n",
    "s.str.lower()"
   ]
  },
  {
   "cell_type": "code",
   "execution_count": 136,
   "id": "b84bc0c8",
   "metadata": {},
   "outputs": [],
   "source": [
    "data = pd.DataFrame(np.random.randn(5, 4))\n",
    "data"
   ]
  },
  {
   "cell_type": "code",
   "execution_count": 137,
   "id": "1fb33342",
   "metadata": {},
   "outputs": [],
   "source": [
    "#combining series and dataset\n",
    "pieces = [df[:3], df[3:7], df[7:]]\n",
    "pieces"
   ]
  },
  {
   "cell_type": "code",
   "execution_count": 138,
   "id": "571ecfe7",
   "metadata": {},
   "outputs": [],
   "source": [
    "pd.concat(pieces)"
   ]
  },
  {
   "cell_type": "code",
   "execution_count": 139,
   "id": "51242238",
   "metadata": {},
   "outputs": [],
   "source": [
    "#shows if there is any null values present in the any columns\n",
    "data.isnull().sum()"
   ]
  },
  {
   "cell_type": "code",
   "execution_count": 140,
   "id": "77c3c9c4",
   "metadata": {},
   "outputs": [],
   "source": [
    "#displays true is null value is present and false if it is not\n",
    "data.isnull().any()"
   ]
  },
  {
   "cell_type": "code",
   "execution_count": 141,
   "id": "927f310d",
   "metadata": {},
   "outputs": [],
   "source": [
    "#descriptive statistics summary of a the dataframe.\n",
    "#This includes mean, count, std deviation, percentiles, and min-max values of all the features.\n",
    "df.describe()"
   ]
  },
  {
   "cell_type": "code",
   "execution_count": 142,
   "id": "0560695f",
   "metadata": {},
   "outputs": [],
   "source": [
    "#transposes the dataset\n",
    "df.T"
   ]
  },
  {
   "cell_type": "code",
   "execution_count": 143,
   "id": "76db58e1",
   "metadata": {},
   "outputs": [],
   "source": [
    "#it sort the columns in ascending order\n",
    "df.sort_index(axis=1, ascending=True)"
   ]
  },
  {
   "cell_type": "code",
   "execution_count": 144,
   "id": "2879f399",
   "metadata": {},
   "outputs": [],
   "source": [
    "#it sorts the columns in descending order\n",
    "df.sort_index(axis=1, ascending=False)"
   ]
  },
  {
   "cell_type": "code",
   "execution_count": null,
   "id": "ff154da7",
   "metadata": {},
   "outputs": [],
   "source": []
  },
  {
   "cell_type": "markdown",
   "id": "f15a95cb",
   "metadata": {},
   "source": [
    "# slicing"
   ]
  },
  {
   "cell_type": "code",
   "execution_count": 145,
   "id": "89c77850",
   "metadata": {},
   "outputs": [],
   "source": [
    "#to select particular rows\n",
    "df[5:20]"
   ]
  },
  {
   "cell_type": "markdown",
   "id": "a4c8f0cd",
   "metadata": {},
   "source": [
    "# iloc and loc"
   ]
  },
  {
   "cell_type": "code",
   "execution_count": 146,
   "id": "8bb58804",
   "metadata": {},
   "outputs": [],
   "source": [
    "#Purely integer-location based indexing for selection by position\n",
    "df.iloc[8:16,3:8]"
   ]
  },
  {
   "cell_type": "code",
   "execution_count": 147,
   "id": "95b60d1c",
   "metadata": {},
   "outputs": [],
   "source": [
    "df"
   ]
  },
  {
   "cell_type": "code",
   "execution_count": 148,
   "id": "dbdebf34",
   "metadata": {},
   "outputs": [],
   "source": [
    "#print from datsun to lotus europa and columns from mpg to gear\n",
    "df.iloc[2:28,0:11]"
   ]
  },
  {
   "cell_type": "code",
   "execution_count": 149,
   "id": "3689e44e",
   "metadata": {},
   "outputs": [],
   "source": [
    "#using iloc select cars from valiant to  fiat 128 and columns model to hp\n",
    "df.iloc[5:18,0:5]"
   ]
  },
  {
   "cell_type": "code",
   "execution_count": 150,
   "id": "76e28c6e",
   "metadata": {},
   "outputs": [],
   "source": [
    "#print all rows and 5 columns\n",
    "df.iloc[:,:5]"
   ]
  },
  {
   "cell_type": "code",
   "execution_count": 151,
   "id": "1d55613b",
   "metadata": {},
   "outputs": [],
   "source": [
    "df"
   ]
  },
  {
   "cell_type": "code",
   "execution_count": 152,
   "id": "f14629f4",
   "metadata": {},
   "outputs": [],
   "source": [
    "#getting particular information\n",
    "#using iloc camaro z28,Volvo 142E,Duster 360\n",
    "#hp,mpg,am,gear\n",
    "df.iloc[[23,31,6],[0,1,4,9,10]]"
   ]
  },
  {
   "cell_type": "markdown",
   "id": "ea7ca37c",
   "metadata": {},
   "source": [
    "# loc"
   ]
  },
  {
   "cell_type": "markdown",
   "id": "566c02be",
   "metadata": {},
   "source": [
    "Access a group of rows and columns by label(s) or a boolean array."
   ]
  },
  {
   "cell_type": "code",
   "execution_count": 153,
   "id": "dd749551",
   "metadata": {},
   "outputs": [],
   "source": [
    "df = pd.read_csv('mtcars.csv')"
   ]
  },
  {
   "cell_type": "code",
   "execution_count": 154,
   "id": "80774f50",
   "metadata": {},
   "outputs": [],
   "source": [
    "df"
   ]
  },
  {
   "cell_type": "code",
   "execution_count": 155,
   "id": "e412bdb8",
   "metadata": {},
   "outputs": [],
   "source": [
    "#loc function gives particular row information \n",
    "df.loc[0]"
   ]
  },
  {
   "cell_type": "code",
   "execution_count": 156,
   "id": "b5b2ac5b",
   "metadata": {},
   "outputs": [],
   "source": [
    "#displays 31st row information\n",
    "df.loc[31]"
   ]
  },
  {
   "cell_type": "code",
   "execution_count": 157,
   "id": "76f87ac8",
   "metadata": {},
   "outputs": [],
   "source": [
    "#displays rows from 2to 5 and columns model to hp\n",
    "df.loc[2:5,'model':'hp']"
   ]
  },
  {
   "cell_type": "code",
   "execution_count": 158,
   "id": "9931eba1",
   "metadata": {},
   "outputs": [],
   "source": [
    "df.head(2)"
   ]
  },
  {
   "cell_type": "code",
   "execution_count": 159,
   "id": "bb8b26f0",
   "metadata": {},
   "outputs": [],
   "source": [
    "#displays 0 to 6 rows and specified random columns\n",
    "df.loc[:6,['model','cyl','am','hp']]"
   ]
  },
  {
   "cell_type": "code",
   "execution_count": 160,
   "id": "66bea959",
   "metadata": {},
   "outputs": [],
   "source": [
    "df"
   ]
  },
  {
   "cell_type": "code",
   "execution_count": 161,
   "id": "ecb4c24e",
   "metadata": {},
   "outputs": [],
   "source": [
    "#question cars from datsun 710 - valiant \n",
    "#columns-model,wt,cyl,am,carb\n",
    "df.loc[2:5,['model','wt','cyl','am','carb']]"
   ]
  },
  {
   "cell_type": "markdown",
   "id": "10e0f60f",
   "metadata": {},
   "source": [
    "# to_list"
   ]
  },
  {
   "cell_type": "code",
   "execution_count": 162,
   "id": "526aedc9",
   "metadata": {},
   "outputs": [],
   "source": [
    "df.columns.to_list() #prints list of  columns"
   ]
  },
  {
   "cell_type": "code",
   "execution_count": 163,
   "id": "d50c0a93",
   "metadata": {},
   "outputs": [],
   "source": [
    "df.index.to_list()#prints index"
   ]
  },
  {
   "cell_type": "markdown",
   "id": "646e0966",
   "metadata": {},
   "source": [
    "# creating a dataframe from scratch"
   ]
  },
  {
   "cell_type": "code",
   "execution_count": 164,
   "id": "54469e36",
   "metadata": {},
   "outputs": [],
   "source": [
    "pd.DataFrame([[1,2,3,4,5],[7,8,9,10,11],[12,13,14,15,16]])"
   ]
  },
  {
   "cell_type": "code",
   "execution_count": 165,
   "id": "acc1a265",
   "metadata": {},
   "outputs": [],
   "source": [
    "import numpy as np"
   ]
  },
  {
   "cell_type": "code",
   "execution_count": 166,
   "id": "1ae46b61",
   "metadata": {},
   "outputs": [],
   "source": [
    "#using arange and reshape function from numpy\n",
    "s5 = pd.DataFrame(np.arange(24).reshape(4,6))\n",
    "s5"
   ]
  },
  {
   "cell_type": "code",
   "execution_count": 167,
   "id": "661a7ec7",
   "metadata": {},
   "outputs": [],
   "source": [
    "#to add column names and row names\n",
    "s5.columns = ['c1','c2','c3','c4','c5','c6']\n",
    "s5.index = ['r1','r2','r3','r4']\n",
    "s5"
   ]
  },
  {
   "cell_type": "code",
   "execution_count": 168,
   "id": "875be3fe",
   "metadata": {},
   "outputs": [],
   "source": [
    "df.head()"
   ]
  },
  {
   "cell_type": "code",
   "execution_count": 169,
   "id": "7f918143",
   "metadata": {},
   "outputs": [],
   "source": [
    "df.info()"
   ]
  },
  {
   "cell_type": "code",
   "execution_count": 170,
   "id": "c8ab859b",
   "metadata": {},
   "outputs": [],
   "source": [
    "#tells about datatype\n",
    "s5.info()"
   ]
  },
  {
   "cell_type": "code",
   "execution_count": 171,
   "id": "3b9d3469",
   "metadata": {},
   "outputs": [],
   "source": [
    "s5.describe()"
   ]
  },
  {
   "cell_type": "code",
   "execution_count": 172,
   "id": "60d53c0f",
   "metadata": {},
   "outputs": [],
   "source": [
    "df.head()"
   ]
  },
  {
   "cell_type": "code",
   "execution_count": 173,
   "id": "06637c8b",
   "metadata": {},
   "outputs": [],
   "source": [
    "#prints rows greater than 100 in disp column\n",
    "df[df.disp>100]"
   ]
  },
  {
   "cell_type": "code",
   "execution_count": 174,
   "id": "314cc570",
   "metadata": {},
   "outputs": [],
   "source": [
    "df[df.disp>100].shape"
   ]
  },
  {
   "cell_type": "code",
   "execution_count": 175,
   "id": "39616232",
   "metadata": {},
   "outputs": [],
   "source": [
    "df[df.hp>100].shape"
   ]
  },
  {
   "cell_type": "code",
   "execution_count": 176,
   "id": "1f4ead24",
   "metadata": {},
   "outputs": [],
   "source": [
    "df[(df.mpg > 20) & (df.hp>110)].shape"
   ]
  },
  {
   "cell_type": "code",
   "execution_count": 177,
   "id": "68591c90",
   "metadata": {},
   "outputs": [],
   "source": [
    "#list the cars in which am = 1 and mpg >20\n",
    "#list how many cars\n",
    "df[(df.am==1) & (df.mpg >20)]"
   ]
  },
  {
   "cell_type": "code",
   "execution_count": 178,
   "id": "7677afe0",
   "metadata": {},
   "outputs": [],
   "source": [
    "df[(df.am==1) & (df.mpg >20)].shape"
   ]
  },
  {
   "cell_type": "markdown",
   "id": "af74ce47",
   "metadata": {},
   "source": [
    "# sorting "
   ]
  },
  {
   "cell_type": "code",
   "execution_count": 179,
   "id": "0aad3b5f",
   "metadata": {},
   "outputs": [],
   "source": [
    "#sorting in ascending by vlaues\n",
    "df.sort_values('mpg')"
   ]
  },
  {
   "cell_type": "code",
   "execution_count": 180,
   "id": "ff4839c7",
   "metadata": {},
   "outputs": [],
   "source": [
    "#sort descending\n",
    "df.sort_values('mpg',ascending = False)"
   ]
  },
  {
   "cell_type": "code",
   "execution_count": 181,
   "id": "70d0c4cb",
   "metadata": {},
   "outputs": [],
   "source": [
    "#sorting in both ascending and descending\n",
    "df.sort_values(['cyl','hp'],ascending = [False,True])"
   ]
  },
  {
   "cell_type": "markdown",
   "id": "c09aa7e4",
   "metadata": {},
   "source": [
    "# Unique"
   ]
  },
  {
   "cell_type": "code",
   "execution_count": 182,
   "id": "811c89f5",
   "metadata": {},
   "outputs": [],
   "source": [
    "#Unique-->tells how many categories\n",
    "#check for categorial values not for continuous values\n",
    "df.am.unique()"
   ]
  },
  {
   "cell_type": "code",
   "execution_count": 183,
   "id": "5ce79747",
   "metadata": {},
   "outputs": [],
   "source": [
    "df.gear.unique()"
   ]
  },
  {
   "cell_type": "code",
   "execution_count": 184,
   "id": "114c12af",
   "metadata": {},
   "outputs": [],
   "source": [
    "df.carb.unique()"
   ]
  },
  {
   "cell_type": "code",
   "execution_count": 185,
   "id": "d4358d77",
   "metadata": {},
   "outputs": [],
   "source": [
    "df.cyl.unique()"
   ]
  },
  {
   "cell_type": "code",
   "execution_count": 186,
   "id": "5aa741d7",
   "metadata": {},
   "outputs": [],
   "source": [
    "#to check counts of categorial values\n",
    "df.am.value_counts()"
   ]
  },
  {
   "cell_type": "code",
   "execution_count": 187,
   "id": "b4542d15",
   "metadata": {},
   "outputs": [],
   "source": [
    "df.gear.value_counts()"
   ]
  },
  {
   "cell_type": "code",
   "execution_count": 188,
   "id": "cfcea2aa",
   "metadata": {},
   "outputs": [],
   "source": [
    "#to find the maximum no of gears\n",
    "df['gear'].max()"
   ]
  },
  {
   "cell_type": "code",
   "execution_count": 189,
   "id": "3a617a16",
   "metadata": {},
   "outputs": [],
   "source": [
    "#to print the models which have maximum of gears\n",
    "df[['model','gear']][df['gear']==df['gear'].max()]"
   ]
  },
  {
   "cell_type": "code",
   "execution_count": 190,
   "id": "40b6dbe2",
   "metadata": {},
   "outputs": [],
   "source": [
    "df"
   ]
  },
  {
   "cell_type": "markdown",
   "id": "7227ce0c",
   "metadata": {},
   "source": [
    "# Merge the two datasets"
   ]
  },
  {
   "cell_type": "code",
   "execution_count": 191,
   "id": "5b9fb8ff",
   "metadata": {},
   "outputs": [],
   "source": [
    "#the default join is inner join \n",
    "d1 = pd.DataFrame({'name':['Virat','Rahul','Shreyas','Rohit','Dhoni'],'Match1':[169,51,60,108,53]})\n",
    "d1"
   ]
  },
  {
   "cell_type": "code",
   "execution_count": 192,
   "id": "7745ba15",
   "metadata": {},
   "outputs": [],
   "source": [
    "d2 = pd.DataFrame({'name':['Virat','Rahul','Shreyas','Rohit'],'Match2':[121,102,45,90]})\n",
    "d2"
   ]
  },
  {
   "cell_type": "code",
   "execution_count": 193,
   "id": "07adac94",
   "metadata": {},
   "outputs": [],
   "source": [
    "dm = pd.merge(d1,d2,on = 'name')\n",
    "dm"
   ]
  },
  {
   "cell_type": "code",
   "execution_count": 194,
   "id": "c0b0f642",
   "metadata": {},
   "outputs": [],
   "source": [
    "\n",
    "d3 = pd.DataFrame({'name':['Virat','Rahul','Shreyas','Rohit','Rishabh'],'Match3':[89,145,162,45,120]})\n",
    "d3"
   ]
  },
  {
   "cell_type": "code",
   "execution_count": 195,
   "id": "c13065ea",
   "metadata": {},
   "outputs": [],
   "source": [
    "#since the default join is inner join we get only intersection of row\n",
    "#merging three datasets\n",
    "#step1 first merge two datasets and then merge with third one\n",
    "dmm = pd.merge(dm,d3,on = 'name')\n",
    "dmm"
   ]
  },
  {
   "cell_type": "markdown",
   "id": "3a0838e2",
   "metadata": {},
   "source": [
    "# merge with outer join"
   ]
  },
  {
   "cell_type": "code",
   "execution_count": 196,
   "id": "cecb5a37",
   "metadata": {},
   "outputs": [],
   "source": [
    "#to get all the rows\n",
    "dm1 = pd.merge(d1,d2, on = 'name', how = 'outer')\n",
    "dm1"
   ]
  },
  {
   "cell_type": "code",
   "execution_count": 197,
   "id": "40cc2992",
   "metadata": {},
   "outputs": [],
   "source": [
    "#thus we get all the players name by outer join\n",
    "#indicator method add extra column merge to tell how it is added\n",
    "df = pd.merge(dm1,d3, on = 'name', how = 'outer' , indicator = True)\n",
    "df"
   ]
  },
  {
   "cell_type": "markdown",
   "id": "e12fb5ba",
   "metadata": {},
   "source": [
    "# merge with left join"
   ]
  },
  {
   "cell_type": "code",
   "execution_count": 198,
   "id": "f79eab25",
   "metadata": {},
   "outputs": [],
   "source": [
    "dfl = pd.merge(d1, d2, on = 'name', how = 'left')\n",
    "dfl"
   ]
  },
  {
   "cell_type": "markdown",
   "id": "d3ac500d",
   "metadata": {},
   "source": [
    "# merge with right join"
   ]
  },
  {
   "cell_type": "code",
   "execution_count": 199,
   "id": "263b5d32",
   "metadata": {},
   "outputs": [],
   "source": [
    "#indicator function create _merge column and tells how it is merged\n",
    "dfr = pd.merge(d2, d3, on = 'name', how = 'right', indicator = True)\n",
    "dfr"
   ]
  },
  {
   "cell_type": "code",
   "execution_count": 200,
   "id": "52cf2c2a",
   "metadata": {},
   "outputs": [],
   "source": [
    "d1 = pd.DataFrame({'name':['Virat','Rahul','Shreyas','Rohit','Dhoni'],'Match':[169,51,60,108,53]})\n",
    "d1"
   ]
  },
  {
   "cell_type": "code",
   "execution_count": 201,
   "id": "f6076099",
   "metadata": {},
   "outputs": [],
   "source": [
    "d2 = pd.DataFrame({'name':['Virat','Rahul','Shreyas','Rohit'],'Match':[121,102,45,90]})\n",
    "d2"
   ]
  },
  {
   "cell_type": "code",
   "execution_count": 202,
   "id": "a622e021",
   "metadata": {},
   "outputs": [],
   "source": [
    "dfn = pd.merge(d1,d2, on = \"name\")\n",
    "dfn"
   ]
  },
  {
   "cell_type": "code",
   "execution_count": 203,
   "id": "6c1969ec",
   "metadata": {},
   "outputs": [],
   "source": [
    "#we can also change x and y to differet suffix\n",
    "dfn = pd.merge(d1,d2, on = \"name\", suffixes = ('_first', '_second'))\n",
    "dfn"
   ]
  },
  {
   "cell_type": "markdown",
   "id": "38984901",
   "metadata": {},
   "source": [
    "# Treating NAN values"
   ]
  },
  {
   "cell_type": "code",
   "execution_count": 204,
   "id": "b85d51bf",
   "metadata": {},
   "outputs": [],
   "source": [
    "import pandas as pd\n",
    "DF =  pd.read_csv('movie_scores.csv')"
   ]
  },
  {
   "cell_type": "code",
   "execution_count": 205,
   "id": "ea70c6c2",
   "metadata": {},
   "outputs": [],
   "source": [
    "DF"
   ]
  },
  {
   "cell_type": "code",
   "execution_count": 206,
   "id": "0f023a73",
   "metadata": {},
   "outputs": [],
   "source": [
    "#finding the no of rows and columns\n",
    "DF.shape"
   ]
  },
  {
   "cell_type": "code",
   "execution_count": 207,
   "id": "0cdb3569",
   "metadata": {},
   "outputs": [],
   "source": [
    "DF.info()"
   ]
  },
  {
   "cell_type": "code",
   "execution_count": 208,
   "id": "bbc6dd09",
   "metadata": {},
   "outputs": [],
   "source": [
    "#identifing nan value columns\n",
    "DF.isnull().any()"
   ]
  },
  {
   "cell_type": "code",
   "execution_count": 209,
   "id": "a5d31a3c",
   "metadata": {},
   "outputs": [],
   "source": [
    "#identifying no of null values\n",
    "DF.isnull().sum()"
   ]
  },
  {
   "cell_type": "code",
   "execution_count": 210,
   "id": "ec0c4652",
   "metadata": {},
   "outputs": [],
   "source": [
    "#using fillna function fills with specified values i.e the null values are filled with 100\n",
    "DF1 = DF.fillna(100)\n",
    "DF1"
   ]
  },
  {
   "cell_type": "markdown",
   "id": "6076e0ed",
   "metadata": {},
   "source": [
    "# Forward Fill"
   ]
  },
  {
   "cell_type": "code",
   "execution_count": 211,
   "id": "7d1552d4",
   "metadata": {},
   "outputs": [],
   "source": [
    "#using forward fill-->fills with forward vales\n",
    "DF2 = DF.fillna(method='ffill')\n",
    "DF2"
   ]
  },
  {
   "cell_type": "code",
   "execution_count": 212,
   "id": "778d23f3",
   "metadata": {},
   "outputs": [],
   "source": [
    "#with limit function --> limit function used to limit the fill by value specified\n",
    "DF2 = DF.fillna(method='ffill', limit = 1)\n",
    "DF2"
   ]
  },
  {
   "cell_type": "code",
   "execution_count": 213,
   "id": "3d1b1c35",
   "metadata": {},
   "outputs": [],
   "source": [
    "#interpolate replaces nan values with predicted values\n",
    "new_df = DF.interpolate()\n",
    "new_df"
   ]
  },
  {
   "cell_type": "markdown",
   "id": "09a48d35",
   "metadata": {},
   "source": [
    "# Backward Fill"
   ]
  },
  {
   "cell_type": "code",
   "execution_count": 214,
   "id": "e4d60845",
   "metadata": {},
   "outputs": [],
   "source": [
    "#in this method the values are filled with backward values\n",
    "DF3 = DF.fillna(method = 'bfill')\n",
    "DF3"
   ]
  },
  {
   "cell_type": "markdown",
   "id": "72c6cea5",
   "metadata": {},
   "source": [
    "# Fill with mean or median"
   ]
  },
  {
   "cell_type": "code",
   "execution_count": 215,
   "id": "0c16a2d4",
   "metadata": {},
   "outputs": [],
   "source": [
    "#if categorial values replace null fields mode\n",
    "#for numerical columns replace with mean or median"
   ]
  },
  {
   "cell_type": "code",
   "execution_count": 216,
   "id": "40138957",
   "metadata": {},
   "outputs": [],
   "source": [
    "DF"
   ]
  },
  {
   "cell_type": "code",
   "execution_count": 217,
   "id": "de517651",
   "metadata": {},
   "outputs": [],
   "source": [
    "DF4 = DF.fillna((DF.median()))\n",
    "DF4"
   ]
  },
  {
   "cell_type": "code",
   "execution_count": 218,
   "id": "68aa5b34",
   "metadata": {},
   "outputs": [],
   "source": [
    "DF5 = DF4.fillna((DF.mode()))\n",
    "DF5"
   ]
  },
  {
   "cell_type": "code",
   "execution_count": 219,
   "id": "00bea36b",
   "metadata": {},
   "outputs": [],
   "source": [
    "#using replace function-Replacing incorrect values with nan value\n",
    "new_df = DF.replace([2.0,8.0],np.NaN)\n",
    "new_df"
   ]
  },
  {
   "cell_type": "code",
   "execution_count": 220,
   "id": "e905e7ff",
   "metadata": {},
   "outputs": [],
   "source": [
    "#replace values based on specific columns\n",
    "new_df = DF.replace({\n",
    "    'age': 51.0,\n",
    "    'pre_movie_score' : 6.0\n",
    "},np.NaN)\n",
    "new_df"
   ]
  },
  {
   "cell_type": "code",
   "execution_count": 221,
   "id": "7185077a",
   "metadata": {},
   "outputs": [],
   "source": [
    "#to replace with specific column\n",
    "new_df = DF.replace({\n",
    "    \"Tom\" : 'Steve',\n",
    "    63 : 36\n",
    "})\n",
    "new_df"
   ]
  },
  {
   "cell_type": "markdown",
   "id": "9c615437",
   "metadata": {},
   "source": [
    "# using Dropna"
   ]
  },
  {
   "cell_type": "code",
   "execution_count": 222,
   "id": "52459fbe",
   "metadata": {},
   "outputs": [],
   "source": [
    "#use only if we have minimum errors and in large datasets\n",
    "DF6 = DF.dropna()\n",
    "DF6\n"
   ]
  },
  {
   "cell_type": "code",
   "execution_count": null,
   "id": "e6a3a0dc",
   "metadata": {},
   "outputs": [],
   "source": []
  },
  {
   "cell_type": "code",
   "execution_count": null,
   "id": "437b4824",
   "metadata": {},
   "outputs": [],
   "source": []
  }
 ],
 "metadata": {
  "kernelspec": {
   "display_name": "Python 3 (ipykernel)",
   "language": "python",
   "name": "python3"
  },
  "language_info": {
   "codemirror_mode": {
    "name": "ipython",
    "version": 3
   },
   "file_extension": ".py",
   "mimetype": "text/x-python",
   "name": "python",
   "nbconvert_exporter": "python",
   "pygments_lexer": "ipython3",
   "version": "3.11.3"
  }
 },
 "nbformat": 4,
 "nbformat_minor": 5
}
